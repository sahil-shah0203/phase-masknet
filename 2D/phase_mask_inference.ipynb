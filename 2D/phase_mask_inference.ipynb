{
 "cells": [
  {
   "cell_type": "markdown",
   "id": "3d184136",
   "metadata": {},
   "source": [
    "# PhaseMaskNet Inference (2D Single Slice)\n",
    "\n",
    "Use a trained PhaseMaskNet model to predict phase masks for new input slices."
   ]
  },
  {
   "cell_type": "markdown",
   "id": "bf22aa6a",
   "metadata": {},
   "source": [
    "## Setup"
   ]
  },
  {
   "cell_type": "code",
   "execution_count": null,
   "id": "5b80e763",
   "metadata": {},
   "outputs": [],
   "source": [
    "\n",
    "!pip install piq\n",
    "import torch\n",
    "import torch.nn as nn\n",
    "import matplotlib.pyplot as plt\n",
    "from PIL import Image\n",
    "import numpy as np\n",
    "\n",
    "device = torch.device(\"cuda\" if torch.cuda.is_available() else \"cpu\")\n"
   ]
  },
  {
   "cell_type": "markdown",
   "id": "aed7bd77",
   "metadata": {},
   "source": [
    "## Model Definition"
   ]
  },
  {
   "cell_type": "code",
   "execution_count": null,
   "id": "8590b184",
   "metadata": {},
   "outputs": [],
   "source": [
    "\n",
    "class DoubleConv(nn.Module):\n",
    "    def __init__(self, in_ch, out_ch):\n",
    "        super().__init__()\n",
    "        self.net = nn.Sequential(\n",
    "            nn.Conv2d(in_ch, out_ch, 3, padding=1),\n",
    "            nn.BatchNorm2d(out_ch),\n",
    "            nn.ReLU(inplace=True),\n",
    "            nn.Conv2d(out_ch, out_ch, 3, padding=1),\n",
    "            nn.BatchNorm2d(out_ch),\n",
    "            nn.ReLU(inplace=True)\n",
    "        )\n",
    "\n",
    "    def forward(self, x):\n",
    "        return self.net(x)\n",
    "\n",
    "class DeepCGHUNet(nn.Module):\n",
    "    def __init__(self, in_ch=1, base_feat=64):\n",
    "        super().__init__()\n",
    "        self.enc1 = DoubleConv(in_ch, base_feat)\n",
    "        self.enc2 = DoubleConv(base_feat, base_feat * 2)\n",
    "        self.enc3 = DoubleConv(base_feat * 2, base_feat * 4)\n",
    "        self.enc4 = DoubleConv(base_feat * 4, base_feat * 8)\n",
    "        self.pool = nn.MaxPool2d(2)\n",
    "        self.bottleneck = DoubleConv(base_feat * 8, base_feat * 16)\n",
    "        self.up3 = nn.Upsample(scale_factor=2, mode='bilinear', align_corners=False)\n",
    "        self.dec3 = DoubleConv(base_feat * 16 + base_feat * 8, base_feat * 8)\n",
    "        self.up2 = nn.Upsample(scale_factor=2, mode='bilinear', align_corners=False)\n",
    "        self.dec2 = DoubleConv(base_feat * 8 + base_feat * 4, base_feat * 4)\n",
    "        self.up1 = nn.Upsample(scale_factor=2, mode='bilinear', align_corners=False)\n",
    "        self.dec1 = DoubleConv(base_feat * 4 + base_feat * 2, base_feat * 2)\n",
    "        self.final_up = nn.Upsample(scale_factor=2, mode='bilinear', align_corners=False)\n",
    "        self.final_conv = nn.Sequential(\n",
    "            nn.Conv2d(base_feat * 2 + base_feat, base_feat, 3, padding=1),\n",
    "            nn.ReLU(),\n",
    "            nn.Conv2d(base_feat, 1, 1)\n",
    "        )\n",
    "\n",
    "    def forward(self, x):\n",
    "        x1 = self.enc1(x)\n",
    "        x2 = self.enc2(self.pool(x1))\n",
    "        x3 = self.enc3(self.pool(x2))\n",
    "        x4 = self.enc4(self.pool(x3))\n",
    "        x5 = self.bottleneck(self.pool(x4))\n",
    "\n",
    "        x = self.up3(x5)\n",
    "        x = self.dec3(torch.cat([x, x4], dim=1))\n",
    "        x = self.up2(x)\n",
    "        x = self.dec2(torch.cat([x, x3], dim=1))\n",
    "        x = self.up1(x)\n",
    "        x = self.dec1(torch.cat([x, x2], dim=1))\n",
    "        x = self.final_up(x)\n",
    "        x = self.final_conv(torch.cat([x, x1], dim=1))\n",
    "        return x\n"
   ]
  },
  {
   "cell_type": "markdown",
   "id": "b0cee31e",
   "metadata": {},
   "source": [
    "## Load Trained Model"
   ]
  },
  {
   "cell_type": "code",
   "execution_count": null,
   "id": "dbd15faa",
   "metadata": {},
   "outputs": [],
   "source": [
    "\n",
    "model = DeepCGHUNet(in_ch=1).to(device)\n",
    "model.load_state_dict(torch.load(\"/content/phase_mask_net.pth\", map_location=device))\n",
    "model.eval()\n"
   ]
  },
  {
   "cell_type": "markdown",
   "id": "7f1b63ac",
   "metadata": {},
   "source": [
    "## Prediction Example"
   ]
  },
  {
   "cell_type": "code",
   "execution_count": null,
   "id": "89e1bcd3",
   "metadata": {},
   "outputs": [],
   "source": [
    "\n",
    "def load_image(path, size=512):\n",
    "    img = Image.open(path).convert('L')\n",
    "    img = img.resize((size, size))\n",
    "    img = np.array(img, dtype=np.float32) / 255.0\n",
    "    img_tensor = torch.from_numpy(img).unsqueeze(0).unsqueeze(0)\n",
    "    return img_tensor.float().to(device)\n",
    "\n",
    "image_path = \"/content/your_input_image.png\"  # Example input\n",
    "input_tensor = load_image(image_path)\n",
    "\n",
    "with torch.no_grad():\n",
    "    pred_phase = model(input_tensor)\n",
    "\n",
    "pred_phase = pred_phase.squeeze().cpu().numpy()\n",
    "\n",
    "plt.figure(figsize=(6,6))\n",
    "plt.imshow(pred_phase % 1.0, cmap='hot')\n",
    "plt.title(\"Predicted Phase Mask (Wrapped)\")\n",
    "plt.colorbar(label=\"Phase (0 to 1)\")\n",
    "plt.axis('off')\n",
    "plt.show()\n"
   ]
  }
 ],
 "metadata": {},
 "nbformat": 4,
 "nbformat_minor": 5
}
